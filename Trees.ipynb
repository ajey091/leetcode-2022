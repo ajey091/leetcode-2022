{
 "cells": [
  {
   "cell_type": "code",
   "execution_count": 10,
   "source": [
    "class TreeNode:\n",
    "    def __init__(self, val=0, left=None, right=None):\n",
    "        self.val = val\n",
    "        self.left = left\n",
    "        self.right = right\n",
    "\n",
    "rootleft = TreeNode(1,None,3)\n",
    "rootright = TreeNode(4,5,6)\n",
    "root = TreeNode(7,rootleft,rootright)"
   ],
   "outputs": [],
   "metadata": {}
  },
  {
   "cell_type": "code",
   "execution_count": null,
   "source": [
    "# Inorder traversal \n",
    "# Recursive\n",
    "def inorderTraversal(self, root: Optional[TreeNode]) -> List[int]:\n",
    "    if not root:\n",
    "        return []\n",
    "    return self.inorderTraversal(root.left) + [root.val] + self.inorderTraversal(root.right)"
   ],
   "outputs": [],
   "metadata": {}
  },
  {
   "cell_type": "code",
   "execution_count": null,
   "source": [
    "# Inorder traversal \n",
    "# Iterative\n",
    "def inorderTraversal(self, root: Optional[TreeNode]) -> List[int]:\n",
    "    if not root:\n",
    "        return []\n",
    "    stack = []\n",
    "    output = []\n",
    "    while root or stack != []:\n",
    "        while root:\n",
    "            stack.append(root)\n",
    "            root = root.left\n",
    "        root = stack.pop()\n",
    "        output.append(root.val)\n",
    "        root = root.right\n",
    "\n",
    "    return output"
   ],
   "outputs": [],
   "metadata": {}
  },
  {
   "cell_type": "code",
   "execution_count": null,
   "source": [
    "# Preorder traversal \n",
    "# Recursive\n",
    "def inorderTraversal(self, root: Optional[TreeNode]) -> List[int]:\n",
    "    if not root:\n",
    "        return []\n",
    "    return [root.val] + self.inorderTraversal(root.left) + self.inorderTraversal(root.right)"
   ],
   "outputs": [],
   "metadata": {}
  },
  {
   "cell_type": "code",
   "execution_count": null,
   "source": [
    "# Preorder traversal \n",
    "# Iterative\n",
    "def inorderTraversal(self, root: Optional[TreeNode]) -> List[int]:\n",
    "    if not root:\n",
    "        return []\n",
    "    stack = []\n",
    "    output = []\n",
    "    while root or stack != []:\n",
    "        while root:\n",
    "            stack.append(root)\n",
    "            root = root.left\n",
    "        root = stack.pop()\n",
    "        output.append(root.val)\n",
    "        root = root.right\n",
    "\n",
    "    return output"
   ],
   "outputs": [],
   "metadata": {}
  },
  {
   "cell_type": "code",
   "execution_count": null,
   "source": [
    "# Postorder traversal \n",
    "# Recursive\n",
    "def inorderTraversal(self, root: Optional[TreeNode]) -> List[int]:\n",
    "    if not root:\n",
    "        return []\n",
    "    return self.inorderTraversal(root.left) + self.inorderTraversal(root.right) + [root.val]"
   ],
   "outputs": [],
   "metadata": {}
  }
 ],
 "metadata": {
  "kernelspec": {
   "display_name": "Python 3",
   "language": "python",
   "name": "python3"
  },
  "language_info": {
   "codemirror_mode": {
    "name": "ipython",
    "version": 3
   },
   "file_extension": ".py",
   "mimetype": "text/x-python",
   "name": "python",
   "nbconvert_exporter": "python",
   "pygments_lexer": "ipython3",
   "version": "3.9.10"
  }
 },
 "nbformat": 4,
 "nbformat_minor": 5
}