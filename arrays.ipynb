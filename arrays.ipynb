{
 "cells": [
  {
   "cell_type": "markdown",
   "id": "531326dd",
   "metadata": {},
   "source": [
    "## Array problems"
   ]
  },
  {
   "cell_type": "code",
   "execution_count": 2,
   "id": "7ddc0e0f",
   "metadata": {},
   "outputs": [
    {
     "name": "stdout",
     "output_type": "stream",
     "text": [
      "[2, 1]\n"
     ]
    }
   ],
   "source": [
    "# 2sum\n",
    "# https://leetcode.com/problems/two-sum/\n",
    "# Hashmap - loop through the array and store indices in a hashmap, return when target is found\n",
    "\n",
    "def twosum(nums, target):\n",
    "    d = {}\n",
    "    for i in range(len(nums)):\n",
    "        if target - nums[i] in d:\n",
    "            return [i,d[target-nums[i]]]\n",
    "        else:\n",
    "            d[nums[i]] = i\n",
    "\n",
    "            \n",
    "print (twosum([1,2,3,6],5))"
   ]
  },
  {
   "cell_type": "code",
   "execution_count": 2,
   "id": "3e44d438",
   "metadata": {},
   "outputs": [
    {
     "name": "stdout",
     "output_type": "stream",
     "text": [
      "[2, 3, 5]\n"
     ]
    }
   ],
   "source": [
    "# 2sum II\n",
    "# https://leetcode.com/problems/two-sum-ii-input-array-is-sorted/\n",
    "# input array is sorted - two pointer method \n",
    "\n",
    "def twosum_sort(nums, target):\n",
    "    nums.sort()\n",
    "    i = 0\n",
    "    j = len(nums) - 1\n",
    "    while i < j:\n",
    "        if nums[i] + nums[j] < target:\n",
    "            i += 1\n",
    "        elif nums[i] + nums[j] > target:\n",
    "            j -= 1\n",
    "        else:\n",
    "            return [nums[i], nums[j], target]\n",
    "        \n",
    "        \n",
    "print (twosum_sort([1,2,3,6],5))"
   ]
  },
  {
   "cell_type": "code",
   "execution_count": 8,
   "id": "22c035b3",
   "metadata": {},
   "outputs": [
    {
     "name": "stdout",
     "output_type": "stream",
     "text": [
      "[[-1, 2, -1], [0, 1, -1]]\n"
     ]
    }
   ],
   "source": [
    "# 3sum\n",
    "# https://leetcode.com/problems/3sum/\n",
    "# Use 2sum II as helper function - sort the array, loop through the input array and call 2sum II at each element. \n",
    "# Take care of duplicates (hint - skipping over elements is easy because array is sorted)\n",
    "\n",
    "\n",
    "def twosum_helper(nums, third, retval):\n",
    "    i = 0\n",
    "    j = len(nums) - 1\n",
    "    while i < j:\n",
    "        if nums[i] + nums[j] + third < 0:\n",
    "            i += 1\n",
    "        elif nums[i] + nums[j] + third > 0:\n",
    "            j -= 1\n",
    "        else:\n",
    "            retval.append([nums[i], nums[j], third])\n",
    "            while i < j and nums[i] == nums[i+1]:\n",
    "                i += 1\n",
    "            while i < j and nums[j] == nums[j-1]:\n",
    "                j -= 1\n",
    "            \n",
    "            i += 1\n",
    "            j -= 1\n",
    "\n",
    "            \n",
    "def threesum(arr):\n",
    "    arr.sort()\n",
    "    retval = []\n",
    "    for i in range(len(arr) - 2):\n",
    "        if i == 0 or arr[i] != arr[i-1]:\n",
    "            twosum_helper(arr[i+1:], arr[i], retval)\n",
    "    \n",
    "    return retval\n",
    "\n",
    "print (threesum([-1,0,1,2,-1,-4]))\n",
    "        \n",
    "        \n",
    "        "
   ]
  },
  {
   "cell_type": "code",
   "execution_count": 2,
   "id": "f3283cee",
   "metadata": {},
   "outputs": [
    {
     "name": "stdout",
     "output_type": "stream",
     "text": [
      "5\n"
     ]
    }
   ],
   "source": [
    "# Best time to buy and sell stock\n",
    "# Set mintillnow and maxprofit and keep updating \n",
    "def maxProfit(prices):\n",
    "    minsofar = prices[0]\n",
    "    maxprofit = 0\n",
    "    for price in prices:\n",
    "        minsofar = min(price,minsofar)\n",
    "        maxprofit = max(maxprofit,price-minsofar)\n",
    "\n",
    "    return maxprofit\n",
    "\n",
    "print (maxProfit([7,1,5,3,6,4]))"
   ]
  },
  {
   "cell_type": "code",
   "execution_count": 1,
   "id": "c9029d26",
   "metadata": {},
   "outputs": [
    {
     "name": "stdout",
     "output_type": "stream",
     "text": [
      "[24, 12, 8, 6]\n"
     ]
    }
   ],
   "source": [
    "# product of array except itself\n",
    "# take the left and right product arrays and output product of the two arrays\n",
    "def productExceptSelf(nums):\n",
    "    retarr = [1]*len(nums)\n",
    "    left = [1]*len(nums)\n",
    "    right = [1]*len(nums)\n",
    "    prod = 1\n",
    "    for i in range(1,len(nums)):\n",
    "        left[i] = nums[i-1] * prod\n",
    "        prod = prod * nums[i-1]\n",
    "    prod = 1\n",
    "    for i in range(1,len(nums)):\n",
    "        right[len(nums) - i - 1] = nums[len(nums) - i] * prod\n",
    "        prod = prod * nums[len(nums) - i]\n",
    "\n",
    "    for i in range(len(nums)):\n",
    "        retarr[i] = left[i] * right[i]\n",
    "    return retarr\n",
    "\n",
    "print (productExceptSelf([1,2,3,4]))"
   ]
  },
  {
   "cell_type": "code",
   "execution_count": 4,
   "id": "0fdc92af",
   "metadata": {},
   "outputs": [
    {
     "name": "stdout",
     "output_type": "stream",
     "text": [
      "10\n"
     ]
    }
   ],
   "source": [
    "# Maximum subarray sum\n",
    "# Kadane's algorithm - maintain a cursum and a maxsum. cursum = max(nums[i] + cursum, \n",
    "# nums[i]), maxsum = max(maxsum,cursum)\n",
    "def maxSubArray(nums):\n",
    "    cursum = nums[0]\n",
    "    maxsum = nums[0]\n",
    "    for i in range(1,len(nums)):\n",
    "        # print (cursum, maxsum)\n",
    "        cursum = max(cursum + nums[i], nums[i])\n",
    "        maxsum = max(cursum, maxsum)\n",
    "    return maxsum\n",
    "\n",
    "print(maxSubArray([1,2,-3,1,9,-3]))"
   ]
  },
  {
   "cell_type": "code",
   "execution_count": 5,
   "id": "ba00d201",
   "metadata": {},
   "outputs": [
    {
     "name": "stdout",
     "output_type": "stream",
     "text": [
      "9\n"
     ]
    }
   ],
   "source": [
    "# Maximum product subarray\n",
    "# Kadane's again - but we have to take care of negatives and zeros. \n",
    "# we do this by maintaining a max-so-far and min-so-far\n",
    "\n",
    "def maxProduct(nums):\n",
    "    maxprod = minprod = curprod = nums[0]\n",
    "    res = maxprod\n",
    "    for i in range(1,len(nums)):\n",
    "        temp_max = max(maxprod*nums[i],minprod*nums[i],nums[i])\n",
    "        minprod = min(maxprod*nums[i],minprod*nums[i],nums[i])\n",
    "        maxprod = temp_max\n",
    "        res = max(maxprod,res)\n",
    "    return res\n",
    "\n",
    "print (maxProduct([-2,0,-1,9,-1]))"
   ]
  },
  {
   "cell_type": "code",
   "execution_count": null,
   "id": "931cf8db",
   "metadata": {},
   "outputs": [],
   "source": [
    "# Contains duplicate\n",
    "\n",
    "def containsDuplicate(nums):\n",
    "    s = set()\n",
    "    for x in nums:\n",
    "        if x not in s:\n",
    "            s.add(x)\n",
    "        else:\n",
    "            return True\n",
    "    return False\n",
    "\n"
   ]
  }
 ],
 "metadata": {
  "kernelspec": {
   "display_name": "Python 3",
   "language": "python",
   "name": "python3"
  },
  "language_info": {
   "codemirror_mode": {
    "name": "ipython",
    "version": 3
   },
   "file_extension": ".py",
   "mimetype": "text/x-python",
   "name": "python",
   "nbconvert_exporter": "python",
   "pygments_lexer": "ipython3",
   "version": "3.9.10"
  }
 },
 "nbformat": 4,
 "nbformat_minor": 5
}
