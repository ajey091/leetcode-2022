{
 "cells": [
  {
   "cell_type": "markdown",
   "id": "b191b8cf",
   "metadata": {},
   "source": [
    "## Array problems"
   ]
  },
  {
   "cell_type": "code",
   "execution_count": 2,
   "id": "7ddc0e0f",
   "metadata": {},
   "outputs": [
    {
     "name": "stdout",
     "output_type": "stream",
     "text": [
      "[2, 1]\n"
     ]
    }
   ],
   "source": [
    "# 2sum\n",
    "# https://leetcode.com/problems/two-sum/\n",
    "# Hashmap - loop through the array and store indices in a hashmap, return when target is found\n",
    "\n",
    "def twosum(nums, target):\n",
    "    d = {}\n",
    "    for i in range(len(nums)):\n",
    "        if target - nums[i] in d:\n",
    "            return [i,d[target-nums[i]]]\n",
    "        else:\n",
    "            d[nums[i]] = i\n",
    "\n",
    "            \n",
    "print (twosum([1,2,3,6],5))"
   ]
  },
  {
   "cell_type": "code",
   "execution_count": 2,
   "id": "3e44d438",
   "metadata": {},
   "outputs": [
    {
     "name": "stdout",
     "output_type": "stream",
     "text": [
      "[2, 3, 5]\n"
     ]
    }
   ],
   "source": [
    "# 2sum II\n",
    "# https://leetcode.com/problems/two-sum-ii-input-array-is-sorted/\n",
    "# input array is sorted - two pointer method \n",
    "\n",
    "def twosum_sort(nums, target):\n",
    "    nums.sort()\n",
    "    i = 0\n",
    "    j = len(nums) - 1\n",
    "    while i < j:\n",
    "        if nums[i] + nums[j] < target:\n",
    "            i += 1\n",
    "        elif nums[i] + nums[j] > target:\n",
    "            j -= 1\n",
    "        else:\n",
    "            return [nums[i], nums[j], target]\n",
    "        \n",
    "        \n",
    "print (twosum_sort([1,2,3,6],5))"
   ]
  },
  {
   "cell_type": "code",
   "execution_count": 8,
   "id": "22c035b3",
   "metadata": {},
   "outputs": [
    {
     "name": "stdout",
     "output_type": "stream",
     "text": [
      "[[-1, 2, -1], [0, 1, -1]]\n"
     ]
    }
   ],
   "source": [
    "# 3sum\n",
    "# https://leetcode.com/problems/3sum/\n",
    "# Use 2sum II as helper function - sort the array, loop through the input array and call 2sum II at each element. \n",
    "# Take care of duplicates (hint - skipping over elements is easy because array is sorted)\n",
    "\n",
    "\n",
    "def twosum_helper(nums, third, retval):\n",
    "    i = 0\n",
    "    j = len(nums) - 1\n",
    "    while i < j:\n",
    "        if nums[i] + nums[j] + third < 0:\n",
    "            i += 1\n",
    "        elif nums[i] + nums[j] + third > 0:\n",
    "            j -= 1\n",
    "        else:\n",
    "            retval.append([nums[i], nums[j], third])\n",
    "            while i < j and nums[i] == nums[i+1]:\n",
    "                i += 1\n",
    "            while i < j and nums[j] == nums[j-1]:\n",
    "                j -= 1\n",
    "            \n",
    "            i += 1\n",
    "            j -= 1\n",
    "\n",
    "            \n",
    "def threesum(arr):\n",
    "    arr.sort()\n",
    "    retval = []\n",
    "    for i in range(len(arr) - 2):\n",
    "        if i == 0 or arr[i] != arr[i-1]:\n",
    "            twosum_helper(arr[i+1:], arr[i], retval)\n",
    "    \n",
    "    return retval\n",
    "\n",
    "print (threesum([-1,0,1,2,-1,-4]))\n",
    "        \n",
    "        \n",
    "        "
   ]
  },
  {
   "cell_type": "code",
   "execution_count": null,
   "id": "f3283cee",
   "metadata": {},
   "outputs": [],
   "source": []
  }
 ],
 "metadata": {
  "kernelspec": {
   "display_name": "Python 3",
   "language": "python",
   "name": "python3"
  },
  "language_info": {
   "codemirror_mode": {
    "name": "ipython",
    "version": 3
   },
   "file_extension": ".py",
   "mimetype": "text/x-python",
   "name": "python",
   "nbconvert_exporter": "python",
   "pygments_lexer": "ipython3",
   "version": "3.9.10"
  }
 },
 "nbformat": 4,
 "nbformat_minor": 5
}
